{
 "cells": [
  {
   "cell_type": "markdown",
   "metadata": {},
   "source": [
    "## 통계학특강 중간고사 대체과제\n",
    "\n",
    "**20182215오혜린**"
   ]
  },
  {
   "cell_type": "markdown",
   "metadata": {},
   "source": [
    "# Subject: Titanic survivor prediction\n",
    "\n",
    "Reason to choose: \n",
    "\\\n",
    "I understand that the Titanic survivor prediction example is a famous for people who are just beginning to learn machine learning.\n",
    "I was interested in it, but I couldn't do it because I'm not confident. But, I decided that take this opportunity to challenge myself.\n"
   ]
  },
  {
   "cell_type": "markdown",
   "metadata": {},
   "source": [
    "# 1. Data Identification\n",
    "\n",
    "In this example, I'm going to use a Nympy(Numerical Python) for fast computation, and I'm going to use the Pandas for easy data processing.\n",
    "\\\n",
    "And I will also use the visualization programs Matplotlib and Seaborn."
   ]
  },
  {
   "cell_type": "code",
   "execution_count": 1,
   "metadata": {},
   "outputs": [
    {
     "data": {
      "text/html": [
       "<div>\n",
       "<style scoped>\n",
       "    .dataframe tbody tr th:only-of-type {\n",
       "        vertical-align: middle;\n",
       "    }\n",
       "\n",
       "    .dataframe tbody tr th {\n",
       "        vertical-align: top;\n",
       "    }\n",
       "\n",
       "    .dataframe thead th {\n",
       "        text-align: right;\n",
       "    }\n",
       "</style>\n",
       "<table border=\"1\" class=\"dataframe\">\n",
       "  <thead>\n",
       "    <tr style=\"text-align: right;\">\n",
       "      <th></th>\n",
       "      <th>PassengerId</th>\n",
       "      <th>Survived</th>\n",
       "      <th>Pclass</th>\n",
       "      <th>Name</th>\n",
       "      <th>Sex</th>\n",
       "      <th>Age</th>\n",
       "      <th>SibSp</th>\n",
       "      <th>Parch</th>\n",
       "      <th>Ticket</th>\n",
       "      <th>Fare</th>\n",
       "      <th>Cabin</th>\n",
       "      <th>Embarked</th>\n",
       "    </tr>\n",
       "  </thead>\n",
       "  <tbody>\n",
       "    <tr>\n",
       "      <th>0</th>\n",
       "      <td>1</td>\n",
       "      <td>0</td>\n",
       "      <td>3</td>\n",
       "      <td>Braund, Mr. Owen Harris</td>\n",
       "      <td>male</td>\n",
       "      <td>22.0</td>\n",
       "      <td>1</td>\n",
       "      <td>0</td>\n",
       "      <td>A/5 21171</td>\n",
       "      <td>7.2500</td>\n",
       "      <td>NaN</td>\n",
       "      <td>S</td>\n",
       "    </tr>\n",
       "    <tr>\n",
       "      <th>1</th>\n",
       "      <td>2</td>\n",
       "      <td>1</td>\n",
       "      <td>1</td>\n",
       "      <td>Cumings, Mrs. John Bradley (Florence Briggs Th...</td>\n",
       "      <td>female</td>\n",
       "      <td>38.0</td>\n",
       "      <td>1</td>\n",
       "      <td>0</td>\n",
       "      <td>PC 17599</td>\n",
       "      <td>71.2833</td>\n",
       "      <td>C85</td>\n",
       "      <td>C</td>\n",
       "    </tr>\n",
       "    <tr>\n",
       "      <th>2</th>\n",
       "      <td>3</td>\n",
       "      <td>1</td>\n",
       "      <td>3</td>\n",
       "      <td>Heikkinen, Miss. Laina</td>\n",
       "      <td>female</td>\n",
       "      <td>26.0</td>\n",
       "      <td>0</td>\n",
       "      <td>0</td>\n",
       "      <td>STON/O2. 3101282</td>\n",
       "      <td>7.9250</td>\n",
       "      <td>NaN</td>\n",
       "      <td>S</td>\n",
       "    </tr>\n",
       "    <tr>\n",
       "      <th>3</th>\n",
       "      <td>4</td>\n",
       "      <td>1</td>\n",
       "      <td>1</td>\n",
       "      <td>Futrelle, Mrs. Jacques Heath (Lily May Peel)</td>\n",
       "      <td>female</td>\n",
       "      <td>35.0</td>\n",
       "      <td>1</td>\n",
       "      <td>0</td>\n",
       "      <td>113803</td>\n",
       "      <td>53.1000</td>\n",
       "      <td>C123</td>\n",
       "      <td>S</td>\n",
       "    </tr>\n",
       "    <tr>\n",
       "      <th>4</th>\n",
       "      <td>5</td>\n",
       "      <td>0</td>\n",
       "      <td>3</td>\n",
       "      <td>Allen, Mr. William Henry</td>\n",
       "      <td>male</td>\n",
       "      <td>35.0</td>\n",
       "      <td>0</td>\n",
       "      <td>0</td>\n",
       "      <td>373450</td>\n",
       "      <td>8.0500</td>\n",
       "      <td>NaN</td>\n",
       "      <td>S</td>\n",
       "    </tr>\n",
       "  </tbody>\n",
       "</table>\n",
       "</div>"
      ],
      "text/plain": [
       "   PassengerId  Survived  Pclass  \\\n",
       "0            1         0       3   \n",
       "1            2         1       1   \n",
       "2            3         1       3   \n",
       "3            4         1       1   \n",
       "4            5         0       3   \n",
       "\n",
       "                                                Name     Sex   Age  SibSp  \\\n",
       "0                            Braund, Mr. Owen Harris    male  22.0      1   \n",
       "1  Cumings, Mrs. John Bradley (Florence Briggs Th...  female  38.0      1   \n",
       "2                             Heikkinen, Miss. Laina  female  26.0      0   \n",
       "3       Futrelle, Mrs. Jacques Heath (Lily May Peel)  female  35.0      1   \n",
       "4                           Allen, Mr. William Henry    male  35.0      0   \n",
       "\n",
       "   Parch            Ticket     Fare Cabin Embarked  \n",
       "0      0         A/5 21171   7.2500   NaN        S  \n",
       "1      0          PC 17599  71.2833   C85        C  \n",
       "2      0  STON/O2. 3101282   7.9250   NaN        S  \n",
       "3      0            113803  53.1000  C123        S  \n",
       "4      0            373450   8.0500   NaN        S  "
      ]
     },
     "execution_count": 1,
     "metadata": {},
     "output_type": "execute_result"
    }
   ],
   "source": [
    "# Data input\n",
    "\n",
    "import numpy as np\n",
    "import pandas as pd\n",
    "import matplotlib.pyplot as plt\n",
    "import seaborn as sns\n",
    "\n",
    "\n",
    "data = pd.read_csv('./titanic/train.csv')\n",
    "data.head()"
   ]
  },
  {
   "cell_type": "markdown",
   "metadata": {},
   "source": [
    "## Variables Description\n",
    "\n",
    "1. PassengerId: Eigenvalues\n",
    "2. Survival: Survival(0 = No, 1 = Yes)\n",
    "3. Pclass: Ticket class(1 = 1st, 2 = 2nd, 3 = 3rd)\n",
    "4. Name, sex, Age\n",
    "5. Sibsp: Number of siblings / spouses aboard the Titanic (같이 탑승한 형제자매, 배우자 인원수)\n",
    "6. Parch: Number of parents / children aboard the Titanic\t\n",
    "7. Ticket: Ticket number\t\n",
    "8. Fare: Passenger fare\n",
    "9. Cabin: Cabin number\t\n",
    "10. embarked: Port of Embarkation (\tC = Cherbourg, Q = Queenstown, S = Southampton)"
   ]
  },
  {
   "cell_type": "code",
   "execution_count": 2,
   "metadata": {},
   "outputs": [
    {
     "data": {
      "text/plain": [
       "(891, 12)"
      ]
     },
     "execution_count": 2,
     "metadata": {},
     "output_type": "execute_result"
    }
   ],
   "source": [
    "data.shape"
   ]
  },
  {
   "cell_type": "code",
   "execution_count": 3,
   "metadata": {},
   "outputs": [
    {
     "name": "stdout",
     "output_type": "stream",
     "text": [
      "<class 'pandas.core.frame.DataFrame'>\n",
      "RangeIndex: 891 entries, 0 to 890\n",
      "Data columns (total 12 columns):\n",
      " #   Column       Non-Null Count  Dtype  \n",
      "---  ------       --------------  -----  \n",
      " 0   PassengerId  891 non-null    int64  \n",
      " 1   Survived     891 non-null    int64  \n",
      " 2   Pclass       891 non-null    int64  \n",
      " 3   Name         891 non-null    object \n",
      " 4   Sex          891 non-null    object \n",
      " 5   Age          714 non-null    float64\n",
      " 6   SibSp        891 non-null    int64  \n",
      " 7   Parch        891 non-null    int64  \n",
      " 8   Ticket       891 non-null    object \n",
      " 9   Fare         891 non-null    float64\n",
      " 10  Cabin        204 non-null    object \n",
      " 11  Embarked     889 non-null    object \n",
      "dtypes: float64(2), int64(5), object(5)\n",
      "memory usage: 83.7+ KB\n"
     ]
    }
   ],
   "source": [
    "# Data type\n",
    "data.info()"
   ]
  },
  {
   "cell_type": "markdown",
   "metadata": {},
   "source": [
    "The data can be found to have a total of 12 variables and 891 rows.\n",
    "And it can be seen that some missing values exist.(Age, Cabin, Embarked)"
   ]
  },
  {
   "cell_type": "markdown",
   "metadata": {},
   "source": [
    "# 2. Data Processing"
   ]
  },
  {
   "cell_type": "markdown",
   "metadata": {},
   "source": [
    "## 2-1. Missing Value\n",
    "If there are missing values, it is difficult to perform machine learning, so I will replace them with appropriate values or delete rows."
   ]
  },
  {
   "cell_type": "code",
   "execution_count": 4,
   "metadata": {},
   "outputs": [],
   "source": [
    "# 'Age' NaN <-- average of 'Age'\n",
    "data['Age'].fillna(data['Age'].mean(), inplace = True)\n",
    "\n",
    "# 'Cabin' NaN <-- 'NA'\n",
    "data['Cabin'].fillna('NA',inplace = True)\n",
    "\n",
    "# delete'Embarked' NaN rows\n",
    "data = data.dropna(axis = 0, subset=['Embarked'], how='any')"
   ]
  },
  {
   "cell_type": "code",
   "execution_count": 5,
   "metadata": {},
   "outputs": [
    {
     "name": "stdout",
     "output_type": "stream",
     "text": [
      "<class 'pandas.core.frame.DataFrame'>\n",
      "Int64Index: 889 entries, 0 to 890\n",
      "Data columns (total 12 columns):\n",
      " #   Column       Non-Null Count  Dtype  \n",
      "---  ------       --------------  -----  \n",
      " 0   PassengerId  889 non-null    int64  \n",
      " 1   Survived     889 non-null    int64  \n",
      " 2   Pclass       889 non-null    int64  \n",
      " 3   Name         889 non-null    object \n",
      " 4   Sex          889 non-null    object \n",
      " 5   Age          889 non-null    float64\n",
      " 6   SibSp        889 non-null    int64  \n",
      " 7   Parch        889 non-null    int64  \n",
      " 8   Ticket       889 non-null    object \n",
      " 9   Fare         889 non-null    float64\n",
      " 10  Cabin        889 non-null    object \n",
      " 11  Embarked     889 non-null    object \n",
      "dtypes: float64(2), int64(5), object(5)\n",
      "memory usage: 90.3+ KB\n"
     ]
    }
   ],
   "source": [
    "data.info()"
   ]
  },
  {
   "cell_type": "markdown",
   "metadata": {},
   "source": [
    "Next, I will process each variable to facilitate analysis.\n",
    "\n",
    "## 2-2. Processing Variable\n",
    "\n",
    "In crisis situations, women, children, and the elderly are rescued first, so I will look at the extent of survival and death depending on gender and age first.\n",
    "\n",
    "### Sex"
   ]
  },
  {
   "cell_type": "code",
   "execution_count": 6,
   "metadata": {},
   "outputs": [
    {
     "data": {
      "text/plain": [
       "Sex     Survived\n",
       "female  0            81\n",
       "        1           231\n",
       "male    0           468\n",
       "        1           109\n",
       "Name: Survived, dtype: int64"
      ]
     },
     "execution_count": 6,
     "metadata": {},
     "output_type": "execute_result"
    }
   ],
   "source": [
    "data.groupby(['Sex','Survived'])['Survived'].count()"
   ]
  },
  {
   "cell_type": "code",
   "execution_count": 7,
   "metadata": {},
   "outputs": [
    {
     "data": {
      "text/plain": [
       "<matplotlib.axes._subplots.AxesSubplot at 0x13497906148>"
      ]
     },
     "execution_count": 7,
     "metadata": {},
     "output_type": "execute_result"
    },
    {
     "data": {
      "image/png": "[encoded data removed]",
      "text/plain": [
       "<Figure size 432x288 with 1 Axes>"
      ]
     },
     "metadata": {
      "needs_background": "light"
     },
     "output_type": "display_data"
    }
   ],
   "source": [
    "sns.barplot(x = 'Sex', y = 'Survived', data = data)"
   ]
  },
  {
   "cell_type": "markdown",
   "metadata": {},
   "source": [
    "Since the variable appears to have a significant impact on survival(Male survival rates are lower.), I will convert it to numerical values to make it easier to analyze."
   ]
  },
  {
   "cell_type": "code",
   "execution_count": 8,
   "metadata": {},
   "outputs": [],
   "source": [
    "def sex(data):\n",
    "    data.loc[(data['Sex'] == 'male'), 'Sex'] = 0\n",
    "    data.loc[(data['Sex'] == 'female'), 'Sex'] = 1\n",
    "    data['Sex'] = data['Sex'].astype(int)\n",
    "\n",
    "sex(data)"
   ]
  },
  {
   "cell_type": "markdown",
   "metadata": {},
   "source": [
    "### Age"
   ]
  },
  {
   "cell_type": "code",
   "execution_count": 9,
   "metadata": {},
   "outputs": [
    {
     "data": {
      "text/plain": [
       "<matplotlib.axes._subplots.AxesSubplot at 0x134980cc288>"
      ]
     },
     "execution_count": 9,
     "metadata": {},
     "output_type": "execute_result"
    },
    {
     "data": {
      "image/png": "[encoded data removed]",
      "text/plain": [
       "<Figure size 432x288 with 1 Axes>"
      ]
     },
     "metadata": {
      "needs_background": "light"
     },
     "output_type": "display_data"
    }
   ],
   "source": [
    "sns.scatterplot(x = 'Age', y = 'Survived', data = data)"
   ]
  },
  {
   "cell_type": "markdown",
   "metadata": {},
   "source": [
    "'Age' is not clearly visible, so I will group the variables."
   ]
  },
  {
   "cell_type": "code",
   "execution_count": 10,
   "metadata": {
    "scrolled": true
   },
   "outputs": [
    {
     "data": {
      "image/png": "[encoded data removed]",
      "text/plain": [
       "<Figure size 432x288 with 1 Axes>"
      ]
     },
     "metadata": {
      "needs_background": "light"
     },
     "output_type": "display_data"
    }
   ],
   "source": [
    "def category(age):\n",
    "    cat = ''\n",
    "    if age <= -1: cat = ' '\n",
    "    elif age <= 5: cat = '0~5'\n",
    "    elif age <= 12: cat = '6~12'\n",
    "    elif age <= 18: cat = '13~18'\n",
    "    elif age <= 25: cat = '19~25'\n",
    "    elif age <= 35: cat = '26~35'\n",
    "    elif age <= 60: cat = '36~60'\n",
    "    else : cat = '61~'\n",
    "    \n",
    "    return cat\n",
    "\n",
    "group_names = [' ', '0~5', '6~12', '13~18', '19~25', '26~35', '36~60', '61~']\n",
    "\n",
    "data['Age_category'] = data['Age'].apply(lambda x : category(x))\n",
    "sns.barplot(x = 'Age_category', y = 'Survived', hue = 'Sex', data = data, order = group_names)\n",
    "data.drop('Age_category', axis=1, inplace=True)"
   ]
  },
  {
   "cell_type": "markdown",
   "metadata": {},
   "source": [
    "Check the survival rate by age and gender, you can see that the survival rate of men and women was mostly high at an early age without much difference, but after the age of 13, the survival rate of men was significantly lower.\n",
    "\\\n",
    "That is, there is a difference in survival rates by age. I will categorize 'Age' variable like this."
   ]
  },
  {
   "cell_type": "code",
   "execution_count": 11,
   "metadata": {
    "scrolled": true
   },
   "outputs": [],
   "source": [
    "def age(data):\n",
    "    data.loc[data['Age'] <= 5, 'Age_C'] = 0\n",
    "    data.loc[(data['Age'] > 5) & (data['Age'] <= 12), 'Age_C'] = 1\n",
    "    data.loc[(data['Age'] > 12) & (data['Age'] <= 18), 'Age_C'] = 2\n",
    "    data.loc[(data['Age'] > 18) & (data['Age'] <= 25), 'Age_C'] = 3\n",
    "    data.loc[(data['Age'] > 25) & (data['Age'] <= 35), 'Age_C'] = 4\n",
    "    data.loc[(data['Age'] > 35) & (data['Age'] <= 60), 'Age_C'] = 5\n",
    "    data.loc[data['Age'] > 60, 'Age_C'] = 6\n",
    "\n",
    "age(data)"
   ]
  },
  {
   "cell_type": "markdown",
   "metadata": {},
   "source": [
    "### Pclass"
   ]
  },
  {
   "cell_type": "code",
   "execution_count": 12,
   "metadata": {},
   "outputs": [
    {
     "data": {
      "text/plain": [
       "<matplotlib.axes._subplots.AxesSubplot at 0x134980b4548>"
      ]
     },
     "execution_count": 12,
     "metadata": {},
     "output_type": "execute_result"
    },
    {
     "data": {
      "image/png": "[encoded data removed]",
      "text/plain": [
       "<Figure size 432x288 with 1 Axes>"
      ]
     },
     "metadata": {
      "needs_background": "light"
     },
     "output_type": "display_data"
    }
   ],
   "source": [
    "sns.barplot(x = 'Pclass', y = 'Survived', hue = 'Sex', data = data)"
   ]
  },
  {
   "cell_type": "markdown",
   "metadata": {},
   "source": [
    "When you look at the survival rate according to the ticket rating, you can see that the higher the rating, the higher the survival rate. \n",
    "Women had a high survival rate in both ticket class 1 and 2, but men were only higher in class 1 and lower in class 2 and 3.\n",
    "\\\n",
    "Therefore, I will categorize 'Pclass' variable and 'Sex' variable into four categories."
   ]
  },
  {
   "cell_type": "code",
   "execution_count": 13,
   "metadata": {},
   "outputs": [],
   "source": [
    "def pclass(data):\n",
    "    data.loc[(data['Sex'] == 0) & (data['Pclass'] == 1), 'Pclass_C'] = 0\n",
    "    data.loc[(data['Sex'] == 0) & (data['Pclass'] == 2) | (data['Pclass'] == 3), 'Pclass_C'] = 1\n",
    "    data.loc[(data['Sex'] == 1) & (data['Pclass'] == 1) | (data['Pclass'] == 2), 'Pclass_C'] = 2\n",
    "    data.loc[(data['Sex'] == 1) & (data['Pclass'] == 3), 'Pclass_C'] = 3\n",
    "    data['Pclass_C'] = data['Pclass_C'].astype(int)\n",
    "\n",
    "pclass(data)"
   ]
  },
  {
   "cell_type": "markdown",
   "metadata": {},
   "source": [
    "### Embarked"
   ]
  },
  {
   "cell_type": "code",
   "execution_count": 14,
   "metadata": {},
   "outputs": [
    {
     "name": "stdout",
     "output_type": "stream",
     "text": [
      "Embarked dist.\n",
      " S    644\n",
      "C    168\n",
      "Q     77\n",
      "Name: Embarked, dtype: int64\n"
     ]
    },
    {
     "data": {
      "text/plain": [
       "<matplotlib.axes._subplots.AxesSubplot at 0x134982bf208>"
      ]
     },
     "execution_count": 14,
     "metadata": {},
     "output_type": "execute_result"
    },
    {
     "data": {
      "image/png": "[encoded data removed]",
      "text/plain": [
       "<Figure size 432x288 with 1 Axes>"
      ]
     },
     "metadata": {
      "needs_background": "light"
     },
     "output_type": "display_data"
    }
   ],
   "source": [
    "print('Embarked dist.\\n', data['Embarked'].value_counts())\n",
    "sns.barplot(x = 'Embarked', y = 'Survived', data = data)"
   ]
  },
  {
   "cell_type": "markdown",
   "metadata": {},
   "source": [
    "Embarked had the highest survival rate for 'C' and the lowest for 'S'.\n",
    "\n",
    "Since the difference between \"S\" and \"Q\" is not significant and \"C\" stands out, I will convert the data to 'Embarked' is \"C\" or not \"C\"."
   ]
  },
  {
   "cell_type": "code",
   "execution_count": 15,
   "metadata": {},
   "outputs": [],
   "source": [
    "def embarked(data):\n",
    "    data.loc[(data['Embarked'] == 'C'), 'Embarked_C'] = 0\n",
    "    data.loc[(data['Embarked'] != 'C'), 'Embarked_C'] = 1\n",
    "    data['Embarked_C'] = data['Embarked_C'].astype(int)\n",
    "\n",
    "embarked(data)"
   ]
  },
  {
   "cell_type": "markdown",
   "metadata": {},
   "source": [
    "### Cabin"
   ]
  },
  {
   "cell_type": "code",
   "execution_count": 16,
   "metadata": {},
   "outputs": [
    {
     "name": "stdout",
     "output_type": "stream",
     "text": [
      "Cabin dist.\n",
      " NA             687\n",
      "B96 B98          4\n",
      "C23 C25 C27      4\n",
      "G6               4\n",
      "C22 C26          3\n",
      "              ... \n",
      "B4               1\n",
      "A36              1\n",
      "E17              1\n",
      "A23              1\n",
      "E68              1\n",
      "Name: Cabin, Length: 147, dtype: int64\n"
     ]
    }
   ],
   "source": [
    "print('Cabin dist.\\n', data['Cabin'].value_counts())"
   ]
  },
  {
   "cell_type": "code",
   "execution_count": 17,
   "metadata": {},
   "outputs": [
    {
     "data": {
      "text/plain": [
       "0        NA\n",
       "1       C85\n",
       "2        NA\n",
       "3      C123\n",
       "4        NA\n",
       "       ... \n",
       "886      NA\n",
       "887     B42\n",
       "888      NA\n",
       "889    C148\n",
       "890      NA\n",
       "Name: Cabin, Length: 889, dtype: object"
      ]
     },
     "execution_count": 17,
     "metadata": {},
     "output_type": "execute_result"
    }
   ],
   "source": [
    "data['Cabin']"
   ]
  },
  {
   "cell_type": "markdown",
   "metadata": {},
   "source": [
    "When looking at Cabin, the number behind it doesn't seem important, but I think the previous letter is information that can tell the cabin's rating, so I'll just extract it."
   ]
  },
  {
   "cell_type": "code",
   "execution_count": 18,
   "metadata": {},
   "outputs": [
    {
     "name": "stdout",
     "output_type": "stream",
     "text": [
      "N    687\n",
      "C     59\n",
      "B     45\n",
      "D     33\n",
      "E     32\n",
      "A     15\n",
      "F     13\n",
      "G      4\n",
      "T      1\n",
      "Name: Cabin, dtype: int64\n"
     ]
    }
   ],
   "source": [
    "data1 = data\n",
    "\n",
    "data1['Cabin'] = data1['Cabin'].str[:1]\n",
    "print(data1['Cabin'].value_counts())"
   ]
  },
  {
   "cell_type": "markdown",
   "metadata": {},
   "source": [
    "The post-processing data shows the same number of missing values as before('NA' = 'N' = 687개).\\\n",
    "It can also be seen that values look organized, unlike previous distributions.\\\n",
    "Therefore, I will apply it to the original dataset and continue to analyze it."
   ]
  },
  {
   "cell_type": "code",
   "execution_count": 19,
   "metadata": {},
   "outputs": [],
   "source": [
    "data['Cabin'] = data['Cabin'].str[:1]"
   ]
  },
  {
   "cell_type": "code",
   "execution_count": 20,
   "metadata": {},
   "outputs": [
    {
     "data": {
      "text/plain": [
       "<matplotlib.axes._subplots.AxesSubplot at 0x134982bbf08>"
      ]
     },
     "execution_count": 20,
     "metadata": {},
     "output_type": "execute_result"
    },
    {
     "data": {
      "image/png": "[encoded data removed]",
      "text/plain": [
       "<Figure size 432x288 with 1 Axes>"
      ]
     },
     "metadata": {
      "needs_background": "light"
     },
     "output_type": "display_data"
    }
   ],
   "source": [
    "sns.barplot(x = 'Cabin', y = 'Survived', data = data)"
   ]
  },
  {
   "cell_type": "markdown",
   "metadata": {},
   "source": [
    "Survival rates are seen in four major stages according to \"Cabin\". \n",
    "\n",
    "First, \"E\", \"D\", and \"B\" had the best survival rates, followed by \"C\" and \"F\". Except for NA, \"G\" and \"A\" had the lowest survival rates. \n",
    "\\\n",
    "I can also see that the data that were missing showed the lowest survival rate."
   ]
  },
  {
   "cell_type": "code",
   "execution_count": 21,
   "metadata": {},
   "outputs": [],
   "source": [
    "def cabin(data):\n",
    "    data.loc[(data['Cabin'] == 'E') | (data['Cabin'] == 'D') | (data['Cabin'] == 'B'), 'Cabin_C'] = 0\n",
    "    data.loc[(data['Cabin'] == 'C') | (data['Cabin'] == 'F'), 'Cabin_C'] = 1\n",
    "    data.loc[(data['Cabin'] == 'G') | (data['Cabin'] == 'A'), 'Cabin_C'] = 2\n",
    "    data.loc[(data['Cabin'] == 'N') | (data['Cabin'] == 'T'), 'Cabin_C'] = 3\n",
    "    data['Cabin_C'] = data['Cabin_C'].astype(int)\n",
    "\n",
    "cabin(data)"
   ]
  },
  {
   "cell_type": "markdown",
   "metadata": {},
   "source": [
    "Next, let's check the difference in survival rates according to 'Parch' and 'SibSp'."
   ]
  },
  {
   "cell_type": "markdown",
   "metadata": {},
   "source": [
    "### Parch and SibSp"
   ]
  },
  {
   "cell_type": "code",
   "execution_count": 22,
   "metadata": {},
   "outputs": [
    {
     "name": "stdout",
     "output_type": "stream",
     "text": [
      "Survived  Parch\n",
      "0         0        445\n",
      "          1         53\n",
      "          2         40\n",
      "          3          2\n",
      "          4          4\n",
      "          5          4\n",
      "          6          1\n",
      "1         0        231\n",
      "          1         65\n",
      "          2         40\n",
      "          3          3\n",
      "          5          1\n",
      "Name: Survived, dtype: int64\n",
      "\n",
      "\n",
      "Survived  SibSp\n",
      "0         0        398\n",
      "          1         97\n",
      "          2         15\n",
      "          3         12\n",
      "          4         15\n",
      "          5          5\n",
      "          8          7\n",
      "1         0        208\n",
      "          1        112\n",
      "          2         13\n",
      "          3          4\n",
      "          4          3\n",
      "Name: Survived, dtype: int64\n"
     ]
    }
   ],
   "source": [
    "print(data.groupby(['Survived','Parch'])['Survived'].count())\n",
    "print('\\n')\n",
    "print(data.groupby(['Survived','SibSp'])['Survived'].count())"
   ]
  },
  {
   "cell_type": "markdown",
   "metadata": {},
   "source": [
    "The most important difference is that the survival rate is low when Parch and SibSp are zero('0'). \\\n",
    "In other cases, there was no significant difference between survival and death. \n",
    "\n",
    "Therefore, I will create a new variable 'Family Number' that combines Parch and SibSp for analysis."
   ]
  },
  {
   "cell_type": "code",
   "execution_count": 23,
   "metadata": {},
   "outputs": [],
   "source": [
    "def family(data):\n",
    "    data['Family_N'] = data['Parch'] + data['SibSp']\n",
    "    data['Family_N'] = data['Family_N'].astype(int)\n",
    "\n",
    "family(data)"
   ]
  },
  {
   "cell_type": "code",
   "execution_count": 24,
   "metadata": {},
   "outputs": [
    {
     "name": "stdout",
     "output_type": "stream",
     "text": [
      "[ 1  0  4  2  6  5  3  7 10]\n"
     ]
    },
    {
     "data": {
      "text/plain": [
       "<matplotlib.axes._subplots.AxesSubplot at 0x13498402108>"
      ]
     },
     "execution_count": 24,
     "metadata": {},
     "output_type": "execute_result"
    },
    {
     "data": {
      "image/png": "[encoded data removed]",
      "text/plain": [
       "<Figure size 432x288 with 1 Axes>"
      ]
     },
     "metadata": {
      "needs_background": "light"
     },
     "output_type": "display_data"
    }
   ],
   "source": [
    "print(data['Family_N'].unique())\n",
    "\n",
    "sns.barplot(x = 'Family_N', y = 'Survived', data = data)"
   ]
  },
  {
   "cell_type": "markdown",
   "metadata": {},
   "source": [
    "The new variable \"Family_N\" shows a difference in survival rates. The new variable confirmed that the survival rate was low, especially at values 0 and above 4."
   ]
  },
  {
   "cell_type": "markdown",
   "metadata": {},
   "source": [
    "### Fare"
   ]
  },
  {
   "cell_type": "code",
   "execution_count": 25,
   "metadata": {},
   "outputs": [
    {
     "name": "stdout",
     "output_type": "stream",
     "text": [
      "[  0.       4.0125   5.       6.2375   6.4375   6.45     6.4958   6.75\n",
      "   6.8583   6.95     6.975    7.0458   7.05     7.0542   7.125    7.1417\n",
      "   7.225    7.2292   7.25     7.3125   7.4958   7.5208   7.55     7.6292\n",
      "   7.65     7.725    7.7292   7.7333   7.7375   7.7417   7.75     7.775\n",
      "   7.7875   7.7958   7.8      7.8292   7.8542   7.875    7.8792   7.8875\n",
      "   7.8958   7.925    8.0292   8.05     8.1125   8.1375   8.1583   8.3\n",
      "   8.3625   8.4042   8.4333   8.4583   8.5167   8.6542   8.6625   8.6833\n",
      "   8.7125   8.85     9.       9.2167   9.225    9.35     9.475    9.4833\n",
      "   9.5      9.5875   9.825    9.8375   9.8417   9.8458  10.1708  10.4625\n",
      "  10.5     10.5167  11.1333  11.2417  11.5     12.      12.275   12.2875\n",
      "  12.35    12.475   12.525   12.65    12.875   13.      13.4167  13.5\n",
      "  13.7917  13.8583  13.8625  14.      14.1083  14.4     14.4542  14.4583\n",
      "  14.5     15.      15.0458  15.05    15.1     15.2458  15.5     15.55\n",
      "  15.7417  15.75    15.85    15.9     16.      16.1     16.7     17.4\n",
      "  17.8     18.      18.75    18.7875  19.2583  19.5     19.9667  20.2125\n",
      "  20.25    20.525   20.575   21.      21.075   21.6792  22.025   22.3583\n",
      "  22.525   23.      23.25    23.45    24.      24.15    25.4667  25.5875\n",
      "  25.925   25.9292  26.      26.25    26.2833  26.2875  26.3875  26.55\n",
      "  27.      27.7208  27.75    27.9     28.5     28.7125  29.      29.125\n",
      "  29.7     30.      30.0708  30.5     30.6958  31.      31.275   31.3875\n",
      "  32.3208  32.5     33.      33.5     34.0208  34.375   34.6542  35.\n",
      "  35.5     36.75    37.0042  38.5     39.      39.4     39.6     39.6875\n",
      "  40.125   41.5792  42.4     46.9     47.1     49.5     49.5042  50.\n",
      "  50.4958  51.4792  51.8625  52.      52.5542  53.1     55.      55.4417\n",
      "  55.9     56.4958  56.9292  57.      57.9792  59.4     61.175   61.3792\n",
      "  61.9792  63.3583  65.      66.6     69.3     69.55    71.      71.2833\n",
      "  73.5     75.25    76.2917  76.7292  77.2875  77.9583  78.2667  78.85\n",
      "  79.2     79.65    81.8583  82.1708  83.1583  83.475   86.5     89.1042\n",
      "  90.      91.0792  93.5    106.425  108.9    110.8833 113.275  120.\n",
      " 133.65   134.5    135.6333 146.5208 151.55   153.4625 164.8667 211.3375\n",
      " 211.5    221.7792 227.525  247.5208 262.375  263.     512.3292]\n"
     ]
    },
    {
     "data": {
      "image/png": "[encoded data removed]",
      "text/plain": [
       "<Figure size 432x216 with 2 Axes>"
      ]
     },
     "metadata": {
      "needs_background": "light"
     },
     "output_type": "display_data"
    }
   ],
   "source": [
    "g = sns.FacetGrid(data, col='Survived')\n",
    "g.map(sns.distplot, \"Fare\")\n",
    "\n",
    "f = data['Fare'].unique()\n",
    "f.sort()\n",
    "print(f)"
   ]
  },
  {
   "cell_type": "markdown",
   "metadata": {},
   "source": [
    "When I checked the value of \"Fare,\" I could see that the value was diverse, and in detail, it was especially concentrated in the front. \\\n",
    "Accordingly, I will check the survival rate by dividing categories into 0-10, 10-30, 30-70, 70-150, 150~."
   ]
  },
  {
   "cell_type": "code",
   "execution_count": 26,
   "metadata": {
    "scrolled": true
   },
   "outputs": [
    {
     "data": {
      "image/png": "[encoded data removed]",
      "text/plain": [
       "<Figure size 432x288 with 1 Axes>"
      ]
     },
     "metadata": {
      "needs_background": "light"
     },
     "output_type": "display_data"
    }
   ],
   "source": [
    "def category(fare):\n",
    "    cat = ''\n",
    "    if fare <= -1: cat = ' '\n",
    "    elif fare <= 10: cat = '0~10'\n",
    "    elif fare <= 30: cat = '11~30'\n",
    "    elif fare <= 70: cat = '31~70'\n",
    "    elif fare <= 150: cat = '71~150'\n",
    "    else : cat = '150~'\n",
    "    \n",
    "    return cat\n",
    "\n",
    "group_names = [' ', '0~10', '11~30', '31~70', '71~150', '150~']\n",
    "\n",
    "data['Fare_category'] = data['Fare'].apply(lambda x : category(x))\n",
    "sns.barplot(x = 'Fare_category', y = 'Survived', data = data, order = group_names)\n",
    "data.drop('Fare_category', axis=1, inplace=True)"
   ]
  },
  {
   "cell_type": "markdown",
   "metadata": {},
   "source": [
    "After checking, I decided that I could categorize it into three categories, so I will categorize the 'Fare' category accordingly."
   ]
  },
  {
   "cell_type": "code",
   "execution_count": 27,
   "metadata": {},
   "outputs": [],
   "source": [
    "def fare(data):\n",
    "    data.loc[data['Fare'] <= 10, 'Fare_C'] = 0\n",
    "    data.loc[(data['Fare'] > 10) & (data['Fare'] <= 70), 'Fare_C'] = 1\n",
    "    data.loc[data['Fare'] > 70, 'Fare_C'] = 2\n",
    "    data['Fare_C'] = data['Fare_C'].astype(int)\n",
    "\n",
    "fare(data)"
   ]
  },
  {
   "cell_type": "code",
   "execution_count": 28,
   "metadata": {},
   "outputs": [
    {
     "data": {
      "text/html": [
       "<div>\n",
       "<style scoped>\n",
       "    .dataframe tbody tr th:only-of-type {\n",
       "        vertical-align: middle;\n",
       "    }\n",
       "\n",
       "    .dataframe tbody tr th {\n",
       "        vertical-align: top;\n",
       "    }\n",
       "\n",
       "    .dataframe thead th {\n",
       "        text-align: right;\n",
       "    }\n",
       "</style>\n",
       "<table border=\"1\" class=\"dataframe\">\n",
       "  <thead>\n",
       "    <tr style=\"text-align: right;\">\n",
       "      <th></th>\n",
       "      <th>PassengerId</th>\n",
       "      <th>Survived</th>\n",
       "      <th>Pclass</th>\n",
       "      <th>Name</th>\n",
       "      <th>Sex</th>\n",
       "      <th>Age</th>\n",
       "      <th>SibSp</th>\n",
       "      <th>Parch</th>\n",
       "      <th>Ticket</th>\n",
       "      <th>Fare</th>\n",
       "      <th>Cabin</th>\n",
       "      <th>Embarked</th>\n",
       "      <th>Age_C</th>\n",
       "      <th>Pclass_C</th>\n",
       "      <th>Embarked_C</th>\n",
       "      <th>Cabin_C</th>\n",
       "      <th>Family_N</th>\n",
       "      <th>Fare_C</th>\n",
       "    </tr>\n",
       "  </thead>\n",
       "  <tbody>\n",
       "    <tr>\n",
       "      <th>0</th>\n",
       "      <td>1</td>\n",
       "      <td>0</td>\n",
       "      <td>3</td>\n",
       "      <td>Braund, Mr. Owen Harris</td>\n",
       "      <td>0</td>\n",
       "      <td>22.0</td>\n",
       "      <td>1</td>\n",
       "      <td>0</td>\n",
       "      <td>A/5 21171</td>\n",
       "      <td>7.2500</td>\n",
       "      <td>N</td>\n",
       "      <td>S</td>\n",
       "      <td>3.0</td>\n",
       "      <td>1</td>\n",
       "      <td>1</td>\n",
       "      <td>3</td>\n",
       "      <td>1</td>\n",
       "      <td>0</td>\n",
       "    </tr>\n",
       "    <tr>\n",
       "      <th>1</th>\n",
       "      <td>2</td>\n",
       "      <td>1</td>\n",
       "      <td>1</td>\n",
       "      <td>Cumings, Mrs. John Bradley (Florence Briggs Th...</td>\n",
       "      <td>1</td>\n",
       "      <td>38.0</td>\n",
       "      <td>1</td>\n",
       "      <td>0</td>\n",
       "      <td>PC 17599</td>\n",
       "      <td>71.2833</td>\n",
       "      <td>C</td>\n",
       "      <td>C</td>\n",
       "      <td>5.0</td>\n",
       "      <td>2</td>\n",
       "      <td>0</td>\n",
       "      <td>1</td>\n",
       "      <td>1</td>\n",
       "      <td>2</td>\n",
       "    </tr>\n",
       "    <tr>\n",
       "      <th>2</th>\n",
       "      <td>3</td>\n",
       "      <td>1</td>\n",
       "      <td>3</td>\n",
       "      <td>Heikkinen, Miss. Laina</td>\n",
       "      <td>1</td>\n",
       "      <td>26.0</td>\n",
       "      <td>0</td>\n",
       "      <td>0</td>\n",
       "      <td>STON/O2. 3101282</td>\n",
       "      <td>7.9250</td>\n",
       "      <td>N</td>\n",
       "      <td>S</td>\n",
       "      <td>4.0</td>\n",
       "      <td>3</td>\n",
       "      <td>1</td>\n",
       "      <td>3</td>\n",
       "      <td>0</td>\n",
       "      <td>0</td>\n",
       "    </tr>\n",
       "    <tr>\n",
       "      <th>3</th>\n",
       "      <td>4</td>\n",
       "      <td>1</td>\n",
       "      <td>1</td>\n",
       "      <td>Futrelle, Mrs. Jacques Heath (Lily May Peel)</td>\n",
       "      <td>1</td>\n",
       "      <td>35.0</td>\n",
       "      <td>1</td>\n",
       "      <td>0</td>\n",
       "      <td>113803</td>\n",
       "      <td>53.1000</td>\n",
       "      <td>C</td>\n",
       "      <td>S</td>\n",
       "      <td>4.0</td>\n",
       "      <td>2</td>\n",
       "      <td>1</td>\n",
       "      <td>1</td>\n",
       "      <td>1</td>\n",
       "      <td>1</td>\n",
       "    </tr>\n",
       "    <tr>\n",
       "      <th>4</th>\n",
       "      <td>5</td>\n",
       "      <td>0</td>\n",
       "      <td>3</td>\n",
       "      <td>Allen, Mr. William Henry</td>\n",
       "      <td>0</td>\n",
       "      <td>35.0</td>\n",
       "      <td>0</td>\n",
       "      <td>0</td>\n",
       "      <td>373450</td>\n",
       "      <td>8.0500</td>\n",
       "      <td>N</td>\n",
       "      <td>S</td>\n",
       "      <td>4.0</td>\n",
       "      <td>1</td>\n",
       "      <td>1</td>\n",
       "      <td>3</td>\n",
       "      <td>0</td>\n",
       "      <td>0</td>\n",
       "    </tr>\n",
       "  </tbody>\n",
       "</table>\n",
       "</div>"
      ],
      "text/plain": [
       "   PassengerId  Survived  Pclass  \\\n",
       "0            1         0       3   \n",
       "1            2         1       1   \n",
       "2            3         1       3   \n",
       "3            4         1       1   \n",
       "4            5         0       3   \n",
       "\n",
       "                                                Name  Sex   Age  SibSp  Parch  \\\n",
       "0                            Braund, Mr. Owen Harris    0  22.0      1      0   \n",
       "1  Cumings, Mrs. John Bradley (Florence Briggs Th...    1  38.0      1      0   \n",
       "2                             Heikkinen, Miss. Laina    1  26.0      0      0   \n",
       "3       Futrelle, Mrs. Jacques Heath (Lily May Peel)    1  35.0      1      0   \n",
       "4                           Allen, Mr. William Henry    0  35.0      0      0   \n",
       "\n",
       "             Ticket     Fare Cabin Embarked  Age_C  Pclass_C  Embarked_C  \\\n",
       "0         A/5 21171   7.2500     N        S    3.0         1           1   \n",
       "1          PC 17599  71.2833     C        C    5.0         2           0   \n",
       "2  STON/O2. 3101282   7.9250     N        S    4.0         3           1   \n",
       "3            113803  53.1000     C        S    4.0         2           1   \n",
       "4            373450   8.0500     N        S    4.0         1           1   \n",
       "\n",
       "   Cabin_C  Family_N  Fare_C  \n",
       "0        3         1       0  \n",
       "1        1         1       2  \n",
       "2        3         0       0  \n",
       "3        1         1       1  \n",
       "4        3         0       0  "
      ]
     },
     "execution_count": 28,
     "metadata": {},
     "output_type": "execute_result"
    }
   ],
   "source": [
    "data.head()"
   ]
  },
  {
   "cell_type": "markdown",
   "metadata": {},
   "source": [
    "Now, let's drop the variables that are not used."
   ]
  },
  {
   "cell_type": "code",
   "execution_count": 29,
   "metadata": {},
   "outputs": [],
   "source": [
    "features_drop = ['Name', 'Pclass','Age', 'SibSp', 'Parch', 'Ticket', 'Fare', 'Cabin', 'Embarked']\n",
    "data = data.drop(features_drop, axis = 1)\n",
    "data = data.drop('PassengerId', axis = 1)"
   ]
  },
  {
   "cell_type": "code",
   "execution_count": 30,
   "metadata": {},
   "outputs": [
    {
     "data": {
      "text/html": [
       "<div>\n",
       "<style scoped>\n",
       "    .dataframe tbody tr th:only-of-type {\n",
       "        vertical-align: middle;\n",
       "    }\n",
       "\n",
       "    .dataframe tbody tr th {\n",
       "        vertical-align: top;\n",
       "    }\n",
       "\n",
       "    .dataframe thead th {\n",
       "        text-align: right;\n",
       "    }\n",
       "</style>\n",
       "<table border=\"1\" class=\"dataframe\">\n",
       "  <thead>\n",
       "    <tr style=\"text-align: right;\">\n",
       "      <th></th>\n",
       "      <th>Survived</th>\n",
       "      <th>Sex</th>\n",
       "      <th>Age_C</th>\n",
       "      <th>Pclass_C</th>\n",
       "      <th>Embarked_C</th>\n",
       "      <th>Cabin_C</th>\n",
       "      <th>Family_N</th>\n",
       "      <th>Fare_C</th>\n",
       "    </tr>\n",
       "  </thead>\n",
       "  <tbody>\n",
       "    <tr>\n",
       "      <th>0</th>\n",
       "      <td>0</td>\n",
       "      <td>0</td>\n",
       "      <td>3.0</td>\n",
       "      <td>1</td>\n",
       "      <td>1</td>\n",
       "      <td>3</td>\n",
       "      <td>1</td>\n",
       "      <td>0</td>\n",
       "    </tr>\n",
       "    <tr>\n",
       "      <th>1</th>\n",
       "      <td>1</td>\n",
       "      <td>1</td>\n",
       "      <td>5.0</td>\n",
       "      <td>2</td>\n",
       "      <td>0</td>\n",
       "      <td>1</td>\n",
       "      <td>1</td>\n",
       "      <td>2</td>\n",
       "    </tr>\n",
       "    <tr>\n",
       "      <th>2</th>\n",
       "      <td>1</td>\n",
       "      <td>1</td>\n",
       "      <td>4.0</td>\n",
       "      <td>3</td>\n",
       "      <td>1</td>\n",
       "      <td>3</td>\n",
       "      <td>0</td>\n",
       "      <td>0</td>\n",
       "    </tr>\n",
       "    <tr>\n",
       "      <th>3</th>\n",
       "      <td>1</td>\n",
       "      <td>1</td>\n",
       "      <td>4.0</td>\n",
       "      <td>2</td>\n",
       "      <td>1</td>\n",
       "      <td>1</td>\n",
       "      <td>1</td>\n",
       "      <td>1</td>\n",
       "    </tr>\n",
       "    <tr>\n",
       "      <th>4</th>\n",
       "      <td>0</td>\n",
       "      <td>0</td>\n",
       "      <td>4.0</td>\n",
       "      <td>1</td>\n",
       "      <td>1</td>\n",
       "      <td>3</td>\n",
       "      <td>0</td>\n",
       "      <td>0</td>\n",
       "    </tr>\n",
       "  </tbody>\n",
       "</table>\n",
       "</div>"
      ],
      "text/plain": [
       "   Survived  Sex  Age_C  Pclass_C  Embarked_C  Cabin_C  Family_N  Fare_C\n",
       "0         0    0    3.0         1           1        3         1       0\n",
       "1         1    1    5.0         2           0        1         1       2\n",
       "2         1    1    4.0         3           1        3         0       0\n",
       "3         1    1    4.0         2           1        1         1       1\n",
       "4         0    0    4.0         1           1        3         0       0"
      ]
     },
     "execution_count": 30,
     "metadata": {},
     "output_type": "execute_result"
    }
   ],
   "source": [
    "data.head()"
   ]
  },
  {
   "cell_type": "markdown",
   "metadata": {},
   "source": [
    "## 2-3. Process test data\n",
    "\n",
    "Now I will process the test data in the same way."
   ]
  },
  {
   "cell_type": "code",
   "execution_count": 31,
   "metadata": {},
   "outputs": [],
   "source": [
    "test = pd.read_csv('./titanic/test.csv')"
   ]
  },
  {
   "cell_type": "code",
   "execution_count": 32,
   "metadata": {},
   "outputs": [
    {
     "name": "stdout",
     "output_type": "stream",
     "text": [
      "<class 'pandas.core.frame.DataFrame'>\n",
      "RangeIndex: 418 entries, 0 to 417\n",
      "Data columns (total 11 columns):\n",
      " #   Column       Non-Null Count  Dtype  \n",
      "---  ------       --------------  -----  \n",
      " 0   PassengerId  418 non-null    int64  \n",
      " 1   Pclass       418 non-null    int64  \n",
      " 2   Name         418 non-null    object \n",
      " 3   Sex          418 non-null    object \n",
      " 4   Age          332 non-null    float64\n",
      " 5   SibSp        418 non-null    int64  \n",
      " 6   Parch        418 non-null    int64  \n",
      " 7   Ticket       418 non-null    object \n",
      " 8   Fare         417 non-null    float64\n",
      " 9   Cabin        91 non-null     object \n",
      " 10  Embarked     418 non-null    object \n",
      "dtypes: float64(2), int64(4), object(5)\n",
      "memory usage: 36.0+ KB\n"
     ]
    }
   ],
   "source": [
    "test.info()"
   ]
  },
  {
   "cell_type": "markdown",
   "metadata": {},
   "source": [
    "Pre-processing test data as previously done with train data.\n",
    "\\\n",
    "Age: use Mean / Fare: drop rows / Cabin: fill with 'NA'"
   ]
  },
  {
   "cell_type": "code",
   "execution_count": 33,
   "metadata": {},
   "outputs": [],
   "source": [
    "test['Age'].fillna(test['Age'].mean(), inplace = True)\n",
    "test['Cabin'].fillna('NA',inplace = True)\n",
    "test = test.dropna(axis = 0, subset=['Fare'], how='any')"
   ]
  },
  {
   "cell_type": "code",
   "execution_count": 34,
   "metadata": {},
   "outputs": [
    {
     "data": {
      "text/html": [
       "<div>\n",
       "<style scoped>\n",
       "    .dataframe tbody tr th:only-of-type {\n",
       "        vertical-align: middle;\n",
       "    }\n",
       "\n",
       "    .dataframe tbody tr th {\n",
       "        vertical-align: top;\n",
       "    }\n",
       "\n",
       "    .dataframe thead th {\n",
       "        text-align: right;\n",
       "    }\n",
       "</style>\n",
       "<table border=\"1\" class=\"dataframe\">\n",
       "  <thead>\n",
       "    <tr style=\"text-align: right;\">\n",
       "      <th></th>\n",
       "      <th>PassengerId</th>\n",
       "      <th>Pclass</th>\n",
       "      <th>Name</th>\n",
       "      <th>Sex</th>\n",
       "      <th>Age</th>\n",
       "      <th>SibSp</th>\n",
       "      <th>Parch</th>\n",
       "      <th>Ticket</th>\n",
       "      <th>Fare</th>\n",
       "      <th>Cabin</th>\n",
       "      <th>Embarked</th>\n",
       "    </tr>\n",
       "  </thead>\n",
       "  <tbody>\n",
       "    <tr>\n",
       "      <th>0</th>\n",
       "      <td>892</td>\n",
       "      <td>3</td>\n",
       "      <td>Kelly, Mr. James</td>\n",
       "      <td>male</td>\n",
       "      <td>34.5</td>\n",
       "      <td>0</td>\n",
       "      <td>0</td>\n",
       "      <td>330911</td>\n",
       "      <td>7.8292</td>\n",
       "      <td>N</td>\n",
       "      <td>Q</td>\n",
       "    </tr>\n",
       "    <tr>\n",
       "      <th>1</th>\n",
       "      <td>893</td>\n",
       "      <td>3</td>\n",
       "      <td>Wilkes, Mrs. James (Ellen Needs)</td>\n",
       "      <td>female</td>\n",
       "      <td>47.0</td>\n",
       "      <td>1</td>\n",
       "      <td>0</td>\n",
       "      <td>363272</td>\n",
       "      <td>7.0000</td>\n",
       "      <td>N</td>\n",
       "      <td>S</td>\n",
       "    </tr>\n",
       "    <tr>\n",
       "      <th>2</th>\n",
       "      <td>894</td>\n",
       "      <td>2</td>\n",
       "      <td>Myles, Mr. Thomas Francis</td>\n",
       "      <td>male</td>\n",
       "      <td>62.0</td>\n",
       "      <td>0</td>\n",
       "      <td>0</td>\n",
       "      <td>240276</td>\n",
       "      <td>9.6875</td>\n",
       "      <td>N</td>\n",
       "      <td>Q</td>\n",
       "    </tr>\n",
       "    <tr>\n",
       "      <th>3</th>\n",
       "      <td>895</td>\n",
       "      <td>3</td>\n",
       "      <td>Wirz, Mr. Albert</td>\n",
       "      <td>male</td>\n",
       "      <td>27.0</td>\n",
       "      <td>0</td>\n",
       "      <td>0</td>\n",
       "      <td>315154</td>\n",
       "      <td>8.6625</td>\n",
       "      <td>N</td>\n",
       "      <td>S</td>\n",
       "    </tr>\n",
       "    <tr>\n",
       "      <th>4</th>\n",
       "      <td>896</td>\n",
       "      <td>3</td>\n",
       "      <td>Hirvonen, Mrs. Alexander (Helga E Lindqvist)</td>\n",
       "      <td>female</td>\n",
       "      <td>22.0</td>\n",
       "      <td>1</td>\n",
       "      <td>1</td>\n",
       "      <td>3101298</td>\n",
       "      <td>12.2875</td>\n",
       "      <td>N</td>\n",
       "      <td>S</td>\n",
       "    </tr>\n",
       "  </tbody>\n",
       "</table>\n",
       "</div>"
      ],
      "text/plain": [
       "   PassengerId  Pclass                                          Name     Sex  \\\n",
       "0          892       3                              Kelly, Mr. James    male   \n",
       "1          893       3              Wilkes, Mrs. James (Ellen Needs)  female   \n",
       "2          894       2                     Myles, Mr. Thomas Francis    male   \n",
       "3          895       3                              Wirz, Mr. Albert    male   \n",
       "4          896       3  Hirvonen, Mrs. Alexander (Helga E Lindqvist)  female   \n",
       "\n",
       "    Age  SibSp  Parch   Ticket     Fare Cabin Embarked  \n",
       "0  34.5      0      0   330911   7.8292     N        Q  \n",
       "1  47.0      1      0   363272   7.0000     N        S  \n",
       "2  62.0      0      0   240276   9.6875     N        Q  \n",
       "3  27.0      0      0   315154   8.6625     N        S  \n",
       "4  22.0      1      1  3101298  12.2875     N        S  "
      ]
     },
     "execution_count": 34,
     "metadata": {},
     "output_type": "execute_result"
    }
   ],
   "source": [
    "test['Cabin'] = test['Cabin'].str[:1]\n",
    "test.head()"
   ]
  },
  {
   "cell_type": "code",
   "execution_count": 35,
   "metadata": {},
   "outputs": [],
   "source": [
    "# Processing Variable\n",
    "age(test)\n",
    "sex(test)\n",
    "family(test)\n",
    "fare(test)\n",
    "cabin(test)\n",
    "embarked(test)\n",
    "pclass(test)"
   ]
  },
  {
   "cell_type": "code",
   "execution_count": 36,
   "metadata": {},
   "outputs": [
    {
     "data": {
      "text/html": [
       "<div>\n",
       "<style scoped>\n",
       "    .dataframe tbody tr th:only-of-type {\n",
       "        vertical-align: middle;\n",
       "    }\n",
       "\n",
       "    .dataframe tbody tr th {\n",
       "        vertical-align: top;\n",
       "    }\n",
       "\n",
       "    .dataframe thead th {\n",
       "        text-align: right;\n",
       "    }\n",
       "</style>\n",
       "<table border=\"1\" class=\"dataframe\">\n",
       "  <thead>\n",
       "    <tr style=\"text-align: right;\">\n",
       "      <th></th>\n",
       "      <th>PassengerId</th>\n",
       "      <th>Sex</th>\n",
       "      <th>Age_C</th>\n",
       "      <th>Family_N</th>\n",
       "      <th>Fare_C</th>\n",
       "      <th>Cabin_C</th>\n",
       "      <th>Embarked_C</th>\n",
       "      <th>Pclass_C</th>\n",
       "    </tr>\n",
       "  </thead>\n",
       "  <tbody>\n",
       "    <tr>\n",
       "      <th>0</th>\n",
       "      <td>892</td>\n",
       "      <td>0</td>\n",
       "      <td>4.0</td>\n",
       "      <td>0</td>\n",
       "      <td>0</td>\n",
       "      <td>3</td>\n",
       "      <td>1</td>\n",
       "      <td>1</td>\n",
       "    </tr>\n",
       "    <tr>\n",
       "      <th>1</th>\n",
       "      <td>893</td>\n",
       "      <td>1</td>\n",
       "      <td>5.0</td>\n",
       "      <td>1</td>\n",
       "      <td>0</td>\n",
       "      <td>3</td>\n",
       "      <td>1</td>\n",
       "      <td>3</td>\n",
       "    </tr>\n",
       "    <tr>\n",
       "      <th>2</th>\n",
       "      <td>894</td>\n",
       "      <td>0</td>\n",
       "      <td>6.0</td>\n",
       "      <td>0</td>\n",
       "      <td>0</td>\n",
       "      <td>3</td>\n",
       "      <td>1</td>\n",
       "      <td>2</td>\n",
       "    </tr>\n",
       "    <tr>\n",
       "      <th>3</th>\n",
       "      <td>895</td>\n",
       "      <td>0</td>\n",
       "      <td>4.0</td>\n",
       "      <td>0</td>\n",
       "      <td>0</td>\n",
       "      <td>3</td>\n",
       "      <td>1</td>\n",
       "      <td>1</td>\n",
       "    </tr>\n",
       "    <tr>\n",
       "      <th>4</th>\n",
       "      <td>896</td>\n",
       "      <td>1</td>\n",
       "      <td>3.0</td>\n",
       "      <td>2</td>\n",
       "      <td>1</td>\n",
       "      <td>3</td>\n",
       "      <td>1</td>\n",
       "      <td>3</td>\n",
       "    </tr>\n",
       "  </tbody>\n",
       "</table>\n",
       "</div>"
      ],
      "text/plain": [
       "   PassengerId  Sex  Age_C  Family_N  Fare_C  Cabin_C  Embarked_C  Pclass_C\n",
       "0          892    0    4.0         0       0        3           1         1\n",
       "1          893    1    5.0         1       0        3           1         3\n",
       "2          894    0    6.0         0       0        3           1         2\n",
       "3          895    0    4.0         0       0        3           1         1\n",
       "4          896    1    3.0         2       1        3           1         3"
      ]
     },
     "execution_count": 36,
     "metadata": {},
     "output_type": "execute_result"
    }
   ],
   "source": [
    "test = test.drop(features_drop, axis = 1)\n",
    "test.head()"
   ]
  },
  {
   "cell_type": "markdown",
   "metadata": {},
   "source": [
    "# 3. Modeling\n",
    "\n",
    "## 3-1. Scaling\n",
    "To make values easier to compare and analyze and to prevent overflow or underflow, I will use the most basic scaling technique, **'StandardScaler'**."
   ]
  },
  {
   "cell_type": "code",
   "execution_count": 37,
   "metadata": {},
   "outputs": [],
   "source": [
    "from sklearn.preprocessing import StandardScaler\n",
    "\n",
    "def scaling(data):\n",
    "    data['Sex'] = StandardScaler().fit_transform(data['Sex'].values.reshape(-1, 1))\n",
    "    data['Family_N'] = StandardScaler().fit_transform(data['Family_N'].values.reshape(-1, 1))\n",
    "    data['Embarked_C'] = StandardScaler().fit_transform(data['Embarked_C'].values.reshape(-1, 1))\n",
    "    data['Cabin_C'] = StandardScaler().fit_transform(data['Cabin_C'].values.reshape(-1, 1))\n",
    "    data['Pclass_C'] = StandardScaler().fit_transform(data['Pclass_C'].values.reshape(-1, 1))\n",
    "    data['Age_C'] = StandardScaler().fit_transform(data['Age_C'].values.reshape(-1, 1))\n",
    "    data['Fare_C'] = StandardScaler().fit_transform(data['Fare_C'].values.reshape(-1, 1))"
   ]
  },
  {
   "cell_type": "code",
   "execution_count": 38,
   "metadata": {},
   "outputs": [],
   "source": [
    "scaling(data)\n",
    "scaling(test)"
   ]
  },
  {
   "cell_type": "code",
   "execution_count": 39,
   "metadata": {},
   "outputs": [
    {
     "data": {
      "text/html": [
       "<div>\n",
       "<style scoped>\n",
       "    .dataframe tbody tr th:only-of-type {\n",
       "        vertical-align: middle;\n",
       "    }\n",
       "\n",
       "    .dataframe tbody tr th {\n",
       "        vertical-align: top;\n",
       "    }\n",
       "\n",
       "    .dataframe thead th {\n",
       "        text-align: right;\n",
       "    }\n",
       "</style>\n",
       "<table border=\"1\" class=\"dataframe\">\n",
       "  <thead>\n",
       "    <tr style=\"text-align: right;\">\n",
       "      <th></th>\n",
       "      <th>Sex</th>\n",
       "      <th>Age_C</th>\n",
       "      <th>Pclass_C</th>\n",
       "      <th>Embarked_C</th>\n",
       "      <th>Cabin_C</th>\n",
       "      <th>Family_N</th>\n",
       "      <th>Fare_C</th>\n",
       "    </tr>\n",
       "  </thead>\n",
       "  <tbody>\n",
       "    <tr>\n",
       "      <th>0</th>\n",
       "      <td>-0.735342</td>\n",
       "      <td>-0.489502</td>\n",
       "      <td>-0.539779</td>\n",
       "      <td>0.482711</td>\n",
       "      <td>0.516809</td>\n",
       "      <td>0.057853</td>\n",
       "      <td>-1.131738</td>\n",
       "    </tr>\n",
       "    <tr>\n",
       "      <th>1</th>\n",
       "      <td>1.359911</td>\n",
       "      <td>1.032062</td>\n",
       "      <td>0.545885</td>\n",
       "      <td>-2.071634</td>\n",
       "      <td>-1.347058</td>\n",
       "      <td>0.057853</td>\n",
       "      <td>1.935686</td>\n",
       "    </tr>\n",
       "    <tr>\n",
       "      <th>2</th>\n",
       "      <td>1.359911</td>\n",
       "      <td>0.271280</td>\n",
       "      <td>1.631548</td>\n",
       "      <td>0.482711</td>\n",
       "      <td>0.516809</td>\n",
       "      <td>-0.561804</td>\n",
       "      <td>-1.131738</td>\n",
       "    </tr>\n",
       "    <tr>\n",
       "      <th>3</th>\n",
       "      <td>1.359911</td>\n",
       "      <td>0.271280</td>\n",
       "      <td>0.545885</td>\n",
       "      <td>0.482711</td>\n",
       "      <td>-1.347058</td>\n",
       "      <td>0.057853</td>\n",
       "      <td>0.401974</td>\n",
       "    </tr>\n",
       "    <tr>\n",
       "      <th>4</th>\n",
       "      <td>-0.735342</td>\n",
       "      <td>0.271280</td>\n",
       "      <td>-0.539779</td>\n",
       "      <td>0.482711</td>\n",
       "      <td>0.516809</td>\n",
       "      <td>-0.561804</td>\n",
       "      <td>-1.131738</td>\n",
       "    </tr>\n",
       "  </tbody>\n",
       "</table>\n",
       "</div>"
      ],
      "text/plain": [
       "        Sex     Age_C  Pclass_C  Embarked_C   Cabin_C  Family_N    Fare_C\n",
       "0 -0.735342 -0.489502 -0.539779    0.482711  0.516809  0.057853 -1.131738\n",
       "1  1.359911  1.032062  0.545885   -2.071634 -1.347058  0.057853  1.935686\n",
       "2  1.359911  0.271280  1.631548    0.482711  0.516809 -0.561804 -1.131738\n",
       "3  1.359911  0.271280  0.545885    0.482711 -1.347058  0.057853  0.401974\n",
       "4 -0.735342  0.271280 -0.539779    0.482711  0.516809 -0.561804 -1.131738"
      ]
     },
     "execution_count": 39,
     "metadata": {},
     "output_type": "execute_result"
    }
   ],
   "source": [
    "data_n = data.drop('Survived', axis=1)\n",
    "label = data['Survived']\n",
    "test_n = test.drop('PassengerId', axis = 1).copy()\n",
    "\n",
    "data_n.head()"
   ]
  },
  {
   "cell_type": "code",
   "execution_count": 40,
   "metadata": {},
   "outputs": [
    {
     "data": {
      "text/plain": [
       "0    0\n",
       "1    1\n",
       "2    1\n",
       "3    1\n",
       "4    0\n",
       "Name: Survived, dtype: int64"
      ]
     },
     "execution_count": 40,
     "metadata": {},
     "output_type": "execute_result"
    }
   ],
   "source": [
    "label.head()"
   ]
  },
  {
   "cell_type": "code",
   "execution_count": 41,
   "metadata": {},
   "outputs": [
    {
     "name": "stdout",
     "output_type": "stream",
     "text": [
      "<class 'pandas.core.frame.DataFrame'>\n",
      "Int64Index: 889 entries, 0 to 890\n",
      "Data columns (total 7 columns):\n",
      " #   Column      Non-Null Count  Dtype  \n",
      "---  ------      --------------  -----  \n",
      " 0   Sex         889 non-null    float64\n",
      " 1   Age_C       889 non-null    float64\n",
      " 2   Pclass_C    889 non-null    float64\n",
      " 3   Embarked_C  889 non-null    float64\n",
      " 4   Cabin_C     889 non-null    float64\n",
      " 5   Family_N    889 non-null    float64\n",
      " 6   Fare_C      889 non-null    float64\n",
      "dtypes: float64(7)\n",
      "memory usage: 95.6 KB\n"
     ]
    }
   ],
   "source": [
    "data_n.info()"
   ]
  },
  {
   "cell_type": "markdown",
   "metadata": {},
   "source": [
    "## 3-2. Select Model\n",
    "\n",
    "In this work, I will use the following 5 methods as prediction models.\n",
    "\n",
    "1. Logistic Regression\n",
    "2. Support Vector Machine (SVM)\n",
    "3. k-Nearest Neighbor (kNN)\n",
    "4. Random Forest\n",
    "5. Naive Bayes\n"
   ]
  },
  {
   "cell_type": "code",
   "execution_count": 42,
   "metadata": {},
   "outputs": [],
   "source": [
    "from sklearn.linear_model import LogisticRegression \n",
    "from sklearn.svm import SVC \n",
    "from sklearn.neighbors import KNeighborsClassifier \n",
    "from sklearn.ensemble import RandomForestClassifier \n",
    "from sklearn.naive_bayes import GaussianNB\n"
   ]
  },
  {
   "cell_type": "code",
   "execution_count": 43,
   "metadata": {},
   "outputs": [],
   "source": [
    "def train_and_test(model): \n",
    "    model.fit(data_n, label) \n",
    "    prediction = model.predict(test_n) \n",
    "    accuracy = round(model.score(data_n, label) * 100, 2)\n",
    "    print('Test Accuracy : %.3f' %(model.score(data_n, label)))\n",
    "    return prediction"
   ]
  },
  {
   "cell_type": "code",
   "execution_count": 44,
   "metadata": {},
   "outputs": [
    {
     "name": "stdout",
     "output_type": "stream",
     "text": [
      "Test Accuracy : 0.837\n",
      "Test Accuracy : 0.792\n",
      "Test Accuracy : 0.881\n",
      "Test Accuracy : 0.848\n",
      "Test Accuracy : 0.811\n"
     ]
    }
   ],
   "source": [
    "svm_pred = train_and_test(SVC()) \n",
    "nb_pred = train_and_test(GaussianNB())\n",
    "rf_pred = train_and_test(RandomForestClassifier(n_estimators = 150))\n",
    "knn_pred_4 = train_and_test(KNeighborsClassifier(n_neighbors = 6)) \n",
    "log_pred = train_and_test(LogisticRegression()) "
   ]
  },
  {
   "cell_type": "markdown",
   "metadata": {},
   "source": [
    "Since the accuracy in **RandomForestClassifier** was the best, I will submit this result value to the kaggle."
   ]
  },
  {
   "cell_type": "markdown",
   "metadata": {},
   "source": [
    "## 3-3. Submission"
   ]
  },
  {
   "cell_type": "code",
   "execution_count": 45,
   "metadata": {},
   "outputs": [
    {
     "data": {
      "text/html": [
       "<div>\n",
       "<style scoped>\n",
       "    .dataframe tbody tr th:only-of-type {\n",
       "        vertical-align: middle;\n",
       "    }\n",
       "\n",
       "    .dataframe tbody tr th {\n",
       "        vertical-align: top;\n",
       "    }\n",
       "\n",
       "    .dataframe thead th {\n",
       "        text-align: right;\n",
       "    }\n",
       "</style>\n",
       "<table border=\"1\" class=\"dataframe\">\n",
       "  <thead>\n",
       "    <tr style=\"text-align: right;\">\n",
       "      <th></th>\n",
       "      <th>PassengerId</th>\n",
       "      <th>Survived</th>\n",
       "    </tr>\n",
       "  </thead>\n",
       "  <tbody>\n",
       "    <tr>\n",
       "      <th>0</th>\n",
       "      <td>892</td>\n",
       "      <td>0</td>\n",
       "    </tr>\n",
       "    <tr>\n",
       "      <th>1</th>\n",
       "      <td>893</td>\n",
       "      <td>1</td>\n",
       "    </tr>\n",
       "    <tr>\n",
       "      <th>2</th>\n",
       "      <td>894</td>\n",
       "      <td>0</td>\n",
       "    </tr>\n",
       "    <tr>\n",
       "      <th>3</th>\n",
       "      <td>895</td>\n",
       "      <td>0</td>\n",
       "    </tr>\n",
       "    <tr>\n",
       "      <th>4</th>\n",
       "      <td>896</td>\n",
       "      <td>1</td>\n",
       "    </tr>\n",
       "    <tr>\n",
       "      <th>5</th>\n",
       "      <td>897</td>\n",
       "      <td>0</td>\n",
       "    </tr>\n",
       "    <tr>\n",
       "      <th>6</th>\n",
       "      <td>898</td>\n",
       "      <td>1</td>\n",
       "    </tr>\n",
       "    <tr>\n",
       "      <th>7</th>\n",
       "      <td>899</td>\n",
       "      <td>0</td>\n",
       "    </tr>\n",
       "    <tr>\n",
       "      <th>8</th>\n",
       "      <td>900</td>\n",
       "      <td>1</td>\n",
       "    </tr>\n",
       "    <tr>\n",
       "      <th>9</th>\n",
       "      <td>901</td>\n",
       "      <td>0</td>\n",
       "    </tr>\n",
       "  </tbody>\n",
       "</table>\n",
       "</div>"
      ],
      "text/plain": [
       "   PassengerId  Survived\n",
       "0          892         0\n",
       "1          893         1\n",
       "2          894         0\n",
       "3          895         0\n",
       "4          896         1\n",
       "5          897         0\n",
       "6          898         1\n",
       "7          899         0\n",
       "8          900         1\n",
       "9          901         0"
      ]
     },
     "execution_count": 45,
     "metadata": {},
     "output_type": "execute_result"
    }
   ],
   "source": [
    "submission = pd.DataFrame({\n",
    "        \"PassengerId\": test[\"PassengerId\"],\n",
    "        \"Survived\": rf_pred\n",
    "    })\n",
    "\n",
    "submission.to_csv('submission_titanic_test1.csv', index=False)\n",
    "submission = pd.read_csv('submission_test1.csv')\n",
    "submission.head(10)"
   ]
  }
 ],
 "metadata": {
  "kernelspec": {
   "display_name": "Python 3",
   "language": "python",
   "name": "python3"
  },
  "language_info": {
   "codemirror_mode": {
    "name": "ipython",
    "version": 3
   },
   "file_extension": ".py",
   "mimetype": "text/x-python",
   "name": "python",
   "nbconvert_exporter": "python",
   "pygments_lexer": "ipython3",
   "version": "3.7.6"
  }
 },
 "nbformat": 4,
 "nbformat_minor": 4
}
